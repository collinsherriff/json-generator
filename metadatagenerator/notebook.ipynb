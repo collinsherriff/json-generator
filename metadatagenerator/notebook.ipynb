{
 "cells": [
  {
   "cell_type": "code",
   "execution_count": 3,
   "metadata": {},
   "outputs": [
    {
     "data": {
      "text/plain": [
       "6"
      ]
     },
     "execution_count": 3,
     "metadata": {},
     "output_type": "execute_result"
    }
   ],
   "source": [
    "a = 3\n",
    "b = 3\n",
    "c = a+b\n",
    "c"
   ]
  },
  {
   "cell_type": "code",
   "execution_count": 8,
   "metadata": {},
   "outputs": [
    {
     "name": "stderr",
     "output_type": "stream",
     "text": [
      "'pip3' is not recognized as an internal or external command,\n",
      "operable program or batch file.\n"
     ]
    }
   ],
   "source": [
    "!pip3 install pandas"
   ]
  },
  {
   "cell_type": "code",
   "execution_count": 10,
   "metadata": {},
   "outputs": [],
   "source": [
    "from math import ceil, floor"
   ]
  },
  {
   "cell_type": "code",
   "execution_count": 11,
   "metadata": {},
   "outputs": [
    {
     "data": {
      "text/plain": [
       "1"
      ]
     },
     "execution_count": 11,
     "metadata": {},
     "output_type": "execute_result"
    }
   ],
   "source": [
    "ceil()"
   ]
  },
  {
   "cell_type": "markdown",
   "metadata": {},
   "source": [
    "# Heading 1"
   ]
  },
  {
   "cell_type": "markdown",
   "metadata": {},
   "source": [
    "`This is a code block`\n",
    "\n",
    "<img src=''>"
   ]
  },
  {
   "cell_type": "code",
   "execution_count": 9,
   "metadata": {},
   "outputs": [
    {
     "name": "stderr",
     "output_type": "stream",
     "text": [
      "'pip3' is not recognized as an internal or external command,\n",
      "operable program or batch file.\n"
     ]
    }
   ],
   "source": [
    "!pip3 install pandas"
   ]
  },
  {
   "cell_type": "code",
   "execution_count": 12,
   "metadata": {},
   "outputs": [],
   "source": [
    "import pandas as pd"
   ]
  },
  {
   "cell_type": "markdown",
   "metadata": {},
   "source": [
    "# Data Types"
   ]
  },
  {
   "cell_type": "markdown",
   "metadata": {},
   "source": [
    "## Level 1"
   ]
  },
  {
   "cell_type": "code",
   "execution_count": 13,
   "metadata": {},
   "outputs": [],
   "source": [
    "_char = 'a'\n",
    "_int = 1\n",
    "_float = 1.2\n",
    "_bool = True"
   ]
  },
  {
   "cell_type": "code",
   "execution_count": 15,
   "metadata": {},
   "outputs": [
    {
     "data": {
      "text/plain": [
       "str"
      ]
     },
     "execution_count": 15,
     "metadata": {},
     "output_type": "execute_result"
    }
   ],
   "source": [
    "type(_char)"
   ]
  },
  {
   "cell_type": "code",
   "execution_count": 27,
   "metadata": {},
   "outputs": [
    {
     "data": {
      "text/plain": [
       "False"
      ]
     },
     "execution_count": 27,
     "metadata": {},
     "output_type": "execute_result"
    }
   ],
   "source": [
    "_char.isdecimal()"
   ]
  },
  {
   "cell_type": "code",
   "execution_count": 25,
   "metadata": {},
   "outputs": [
    {
     "data": {
      "text/plain": [
       "'A'"
      ]
     },
     "execution_count": 25,
     "metadata": {},
     "output_type": "execute_result"
    }
   ],
   "source": [
    "_char.upper()"
   ]
  },
  {
   "cell_type": "markdown",
   "metadata": {},
   "source": [
    "## Level 2"
   ]
  },
  {
   "cell_type": "code",
   "execution_count": 20,
   "metadata": {},
   "outputs": [
    {
     "data": {
      "text/plain": [
       "[1, 2, 3, 'a']"
      ]
     },
     "execution_count": 20,
     "metadata": {},
     "output_type": "execute_result"
    }
   ],
   "source": [
    "_list = [1,2,3, 'a']\n",
    "_list"
   ]
  },
  {
   "cell_type": "code",
   "execution_count": 28,
   "metadata": {},
   "outputs": [
    {
     "data": {
      "text/plain": [
       "4"
      ]
     },
     "execution_count": 28,
     "metadata": {},
     "output_type": "execute_result"
    }
   ],
   "source": [
    "len(_list)"
   ]
  },
  {
   "cell_type": "code",
   "execution_count": 21,
   "metadata": {},
   "outputs": [
    {
     "data": {
      "text/plain": [
       "{'key1': [1, 2, 3, 'a'], 'key2': 'value2'}"
      ]
     },
     "execution_count": 21,
     "metadata": {},
     "output_type": "execute_result"
    }
   ],
   "source": [
    "_dict = {'key1': _list, \n",
    "         'key2': 'value2'}\n",
    "_dict"
   ]
  },
  {
   "cell_type": "code",
   "execution_count": 18,
   "metadata": {},
   "outputs": [
    {
     "data": {
      "text/plain": [
       "{1, 2, 3, 4}"
      ]
     },
     "execution_count": 18,
     "metadata": {},
     "output_type": "execute_result"
    }
   ],
   "source": [
    "_set = {1,2,3,4,2}\n",
    "_set"
   ]
  },
  {
   "cell_type": "markdown",
   "metadata": {},
   "source": [
    "## Level 3 - Basic Classses"
   ]
  },
  {
   "cell_type": "code",
   "execution_count": 22,
   "metadata": {},
   "outputs": [],
   "source": [
    "import numpy as np"
   ]
  },
  {
   "cell_type": "code",
   "execution_count": 33,
   "metadata": {},
   "outputs": [
    {
     "data": {
      "text/plain": [
       "(3, 3)"
      ]
     },
     "execution_count": 33,
     "metadata": {},
     "output_type": "execute_result"
    }
   ],
   "source": [
    "arr = np.array([[1,2,3], [1,2,3], [1,2,3]])\n",
    "arr.shape"
   ]
  },
  {
   "cell_type": "code",
   "execution_count": 34,
   "metadata": {},
   "outputs": [
    {
     "data": {
      "text/plain": [
       "array([[1, 2, 3],\n",
       "       [1, 2, 3],\n",
       "       [1, 2, 3]])"
      ]
     },
     "execution_count": 34,
     "metadata": {},
     "output_type": "execute_result"
    }
   ],
   "source": [
    "arr"
   ]
  },
  {
   "cell_type": "code",
   "execution_count": 36,
   "metadata": {},
   "outputs": [
    {
     "data": {
      "text/plain": [
       "array([3, 6, 9])"
      ]
     },
     "execution_count": 36,
     "metadata": {},
     "output_type": "execute_result"
    }
   ],
   "source": [
    "arr.sum(axis=0)"
   ]
  },
  {
   "cell_type": "code",
   "execution_count": 39,
   "metadata": {},
   "outputs": [
    {
     "data": {
      "text/plain": [
       "array([14, 14, 14])"
      ]
     },
     "execution_count": 39,
     "metadata": {},
     "output_type": "execute_result"
    }
   ],
   "source": [
    "arr.dot(np.array([1,2,3]))"
   ]
  },
  {
   "cell_type": "markdown",
   "metadata": {},
   "source": [
    "## Level 4 - Advanced Classes"
   ]
  },
  {
   "cell_type": "code",
   "execution_count": 40,
   "metadata": {},
   "outputs": [],
   "source": [
    "import pandas as pd"
   ]
  },
  {
   "cell_type": "markdown",
   "metadata": {},
   "source": [
    "### Example Class"
   ]
  },
  {
   "cell_type": "code",
   "execution_count": 72,
   "metadata": {},
   "outputs": [],
   "source": [
    "SPEED_LIMIT = 5\n",
    "class Vehicle:\n",
    "    def __init__(self, speed):\n",
    "        assert type(speed) == float, \"speed needs to be float\"\n",
    "        self.speed = speed\n",
    "    def is_speeding(self):\n",
    "        b = self.speed > SPEED_LIMIT\n",
    "        return b\n",
    "    "
   ]
  },
  {
   "cell_type": "code",
   "execution_count": 73,
   "metadata": {},
   "outputs": [],
   "source": [
    "car1 = Vehicle(1.)"
   ]
  },
  {
   "cell_type": "code",
   "execution_count": 74,
   "metadata": {},
   "outputs": [
    {
     "data": {
      "text/plain": [
       "1.0"
      ]
     },
     "execution_count": 74,
     "metadata": {},
     "output_type": "execute_result"
    }
   ],
   "source": [
    "car1.speed"
   ]
  },
  {
   "cell_type": "code",
   "execution_count": 75,
   "metadata": {},
   "outputs": [],
   "source": [
    "car2 = Vehicle(2.)"
   ]
  },
  {
   "cell_type": "code",
   "execution_count": 76,
   "metadata": {},
   "outputs": [
    {
     "data": {
      "text/plain": [
       "2.0"
      ]
     },
     "execution_count": 76,
     "metadata": {},
     "output_type": "execute_result"
    }
   ],
   "source": [
    "car2.speed"
   ]
  },
  {
   "cell_type": "code",
   "execution_count": 77,
   "metadata": {},
   "outputs": [
    {
     "name": "stdout",
     "output_type": "stream",
     "text": [
      "0\n",
      "1\n",
      "2\n",
      "3\n",
      "4\n",
      "5\n",
      "6\n",
      "7\n",
      "8\n",
      "9\n"
     ]
    }
   ],
   "source": [
    "vehicles = []\n",
    "for i in range(10):\n",
    "    print(i)\n",
    "    f = float(i)\n",
    "    veh = Vehicle(f)\n",
    "    vehicles.append(veh)"
   ]
  },
  {
   "cell_type": "code",
   "execution_count": 78,
   "metadata": {},
   "outputs": [
    {
     "data": {
      "text/plain": [
       "3.0"
      ]
     },
     "execution_count": 78,
     "metadata": {},
     "output_type": "execute_result"
    }
   ],
   "source": [
    "vehicles[3].speed"
   ]
  },
  {
   "cell_type": "code",
   "execution_count": 79,
   "metadata": {},
   "outputs": [
    {
     "name": "stdout",
     "output_type": "stream",
     "text": [
      "False\n",
      "False\n",
      "False\n",
      "False\n",
      "False\n",
      "False\n",
      "True\n",
      "True\n",
      "True\n",
      "True\n"
     ]
    }
   ],
   "source": [
    "for vehicle in vehicles:\n",
    "    print(vehicle.is_speeding())"
   ]
  },
  {
   "cell_type": "code",
   "execution_count": 86,
   "metadata": {},
   "outputs": [],
   "source": [
    "df = pd.read_csv(r'C:\\Users\\colli\\Desktop\\Dev\\metadatagenerator\\dummy-data.csv')"
   ]
  },
  {
   "cell_type": "code",
   "execution_count": 87,
   "metadata": {},
   "outputs": [],
   "source": [
    "df = pd.read_csv('./dummy-data.csv', )"
   ]
  },
  {
   "cell_type": "code",
   "execution_count": 89,
   "metadata": {},
   "outputs": [
    {
     "data": {
      "text/html": [
       "<div>\n",
       "<style scoped>\n",
       "    .dataframe tbody tr th:only-of-type {\n",
       "        vertical-align: middle;\n",
       "    }\n",
       "\n",
       "    .dataframe tbody tr th {\n",
       "        vertical-align: top;\n",
       "    }\n",
       "\n",
       "    .dataframe thead th {\n",
       "        text-align: right;\n",
       "    }\n",
       "</style>\n",
       "<table border=\"1\" class=\"dataframe\">\n",
       "  <thead>\n",
       "    <tr style=\"text-align: right;\">\n",
       "      <th></th>\n",
       "      <th>token_id</th>\n",
       "      <th>blockchain</th>\n",
       "      <th>tx</th>\n",
       "      <th>smart_contract_address</th>\n",
       "      <th>image</th>\n",
       "      <th>description</th>\n",
       "      <th>owner</th>\n",
       "    </tr>\n",
       "  </thead>\n",
       "  <tbody>\n",
       "    <tr>\n",
       "      <th>0</th>\n",
       "      <td>–</td>\n",
       "      <td>Binance Smart Chain</td>\n",
       "      <td>NaN</td>\n",
       "      <td>NaN</td>\n",
       "      <td>f0e0fe5e-f5cc-444d-8428-c9ed467de828_fullsize....</td>\n",
       "      <td>BIL Team Photo</td>\n",
       "      <td>TG777</td>\n",
       "    </tr>\n",
       "    <tr>\n",
       "      <th>1</th>\n",
       "      <td>5284</td>\n",
       "      <td>BSC</td>\n",
       "      <td>0x5331de7bce629c523d5d531cd9d3fd3c650f4d17341d...</td>\n",
       "      <td>0x3e855B7941fE8ef5F07DAd68C5140D6a3EC1b286</td>\n",
       "      <td>fc835a20-bd0c-46d8-b8c9-f05a0619d646_fullsize....</td>\n",
       "      <td>Captain Phepsi Buthelezi's Boots</td>\n",
       "      <td>(burned)</td>\n",
       "    </tr>\n",
       "    <tr>\n",
       "      <th>2</th>\n",
       "      <td>5285</td>\n",
       "      <td>BSC</td>\n",
       "      <td>NaN</td>\n",
       "      <td>NaN</td>\n",
       "      <td>d4c71269-df3b-48d5-93be-864fa64e33df_fullsize....</td>\n",
       "      <td>Sharks Jersey</td>\n",
       "      <td>TG777</td>\n",
       "    </tr>\n",
       "    <tr>\n",
       "      <th>3</th>\n",
       "      <td>5743</td>\n",
       "      <td>BSC</td>\n",
       "      <td>NaN</td>\n",
       "      <td>NaN</td>\n",
       "      <td>929e17e6-7325-4a66-838a-295838fbab6e_fullsize....</td>\n",
       "      <td>Photo A: Anthony Volmink</td>\n",
       "      <td>Mr.NFT</td>\n",
       "    </tr>\n",
       "    <tr>\n",
       "      <th>4</th>\n",
       "      <td>5745</td>\n",
       "      <td>BSC</td>\n",
       "      <td>NaN</td>\n",
       "      <td>NaN</td>\n",
       "      <td>8fcfc6d4-9e75-46d1-b80c-fb50718fdf0d_fullsize....</td>\n",
       "      <td>Photo B: Siya Kolisi</td>\n",
       "      <td>GT001</td>\n",
       "    </tr>\n",
       "    <tr>\n",
       "      <th>5</th>\n",
       "      <td>5747</td>\n",
       "      <td>BSC</td>\n",
       "      <td>NaN</td>\n",
       "      <td>NaN</td>\n",
       "      <td>dd4694ff-cf5b-414b-a7b4-aea49107df18_fullsize....</td>\n",
       "      <td>Photo C: Locker Room</td>\n",
       "      <td>JohanGvd</td>\n",
       "    </tr>\n",
       "    <tr>\n",
       "      <th>6</th>\n",
       "      <td>5753</td>\n",
       "      <td>BSC</td>\n",
       "      <td>0x17e91fdaf641e26876cf42a5e8277a3ba7ad02ba2e9f...</td>\n",
       "      <td>0x3e855B7941fE8ef5F07DAd68C5140D6a3EC1b286</td>\n",
       "      <td>72a3651d-f6b6-43c8-a3af-2a43804c837c_fullsize....</td>\n",
       "      <td>Curwin Bosch Signed BIL Jersey</td>\n",
       "      <td>Frederick</td>\n",
       "    </tr>\n",
       "    <tr>\n",
       "      <th>7</th>\n",
       "      <td>5754</td>\n",
       "      <td>BSC</td>\n",
       "      <td>0x40a7bf7225e962c3f3d23b615c4fd6277fb11aa6500e...</td>\n",
       "      <td>0x3e855B7941fE8ef5F07DAd68C5140D6a3EC1b286</td>\n",
       "      <td>72a3aa72-b310-4dec-90fc-ac3671c104e3_fullsize....</td>\n",
       "      <td>Jeremy Ward Signed BIL Jersey</td>\n",
       "      <td>Frederick</td>\n",
       "    </tr>\n",
       "    <tr>\n",
       "      <th>8</th>\n",
       "      <td>5757</td>\n",
       "      <td>BSC</td>\n",
       "      <td>NaN</td>\n",
       "      <td>0x3e855B7941fE8ef5F07DAd68C5140D6a3EC1b286</td>\n",
       "      <td>d6b6bc43-5b88-4300-b9d5-7267372ba39c_fullsize....</td>\n",
       "      <td>Player 23 Seat Prize Draw</td>\n",
       "      <td>JohanGvd</td>\n",
       "    </tr>\n",
       "    <tr>\n",
       "      <th>9</th>\n",
       "      <td>5905</td>\n",
       "      <td>BSC</td>\n",
       "      <td>0x8e625a5b6c1746ebafb82c394bff8a9d8f3b0184bf3c...</td>\n",
       "      <td>0x3e855B7941fE8ef5F07DAd68C5140D6a3EC1b286</td>\n",
       "      <td>4529a7de-9015-46a1-b6f3-c8fc1d25bcb9_fullsize....</td>\n",
       "      <td>John Sit Springbok Century Jersey</td>\n",
       "      <td>Malcom</td>\n",
       "    </tr>\n",
       "    <tr>\n",
       "      <th>10</th>\n",
       "      <td>6832</td>\n",
       "      <td>BSC</td>\n",
       "      <td>0xb86b02627d2b05526d1771411bdfde6b30abf8df00e8...</td>\n",
       "      <td>0x3e855B7941fE8ef5F07DAd68C5140D6a3EC1b286</td>\n",
       "      <td>fc835a20-bd0c-46d8-b8c9-f05a0619d646_fullsize....</td>\n",
       "      <td>Captain Phepsi Buthelezi's Boots</td>\n",
       "      <td>Ryanielove3</td>\n",
       "    </tr>\n",
       "  </tbody>\n",
       "</table>\n",
       "</div>"
      ],
      "text/plain": [
       "   token_id           blockchain  \\\n",
       "0         –  Binance Smart Chain   \n",
       "1      5284                  BSC   \n",
       "2      5285                  BSC   \n",
       "3      5743                  BSC   \n",
       "4      5745                  BSC   \n",
       "5      5747                  BSC   \n",
       "6      5753                  BSC   \n",
       "7      5754                  BSC   \n",
       "8      5757                  BSC   \n",
       "9      5905                  BSC   \n",
       "10     6832                  BSC   \n",
       "\n",
       "                                                   tx  \\\n",
       "0                                                 NaN   \n",
       "1   0x5331de7bce629c523d5d531cd9d3fd3c650f4d17341d...   \n",
       "2                                                 NaN   \n",
       "3                                                 NaN   \n",
       "4                                                 NaN   \n",
       "5                                                 NaN   \n",
       "6   0x17e91fdaf641e26876cf42a5e8277a3ba7ad02ba2e9f...   \n",
       "7   0x40a7bf7225e962c3f3d23b615c4fd6277fb11aa6500e...   \n",
       "8                                                 NaN   \n",
       "9   0x8e625a5b6c1746ebafb82c394bff8a9d8f3b0184bf3c...   \n",
       "10  0xb86b02627d2b05526d1771411bdfde6b30abf8df00e8...   \n",
       "\n",
       "                        smart_contract_address  \\\n",
       "0                                          NaN   \n",
       "1   0x3e855B7941fE8ef5F07DAd68C5140D6a3EC1b286   \n",
       "2                                          NaN   \n",
       "3                                          NaN   \n",
       "4                                          NaN   \n",
       "5                                          NaN   \n",
       "6   0x3e855B7941fE8ef5F07DAd68C5140D6a3EC1b286   \n",
       "7   0x3e855B7941fE8ef5F07DAd68C5140D6a3EC1b286   \n",
       "8   0x3e855B7941fE8ef5F07DAd68C5140D6a3EC1b286   \n",
       "9   0x3e855B7941fE8ef5F07DAd68C5140D6a3EC1b286   \n",
       "10  0x3e855B7941fE8ef5F07DAd68C5140D6a3EC1b286   \n",
       "\n",
       "                                                image  \\\n",
       "0   f0e0fe5e-f5cc-444d-8428-c9ed467de828_fullsize....   \n",
       "1   fc835a20-bd0c-46d8-b8c9-f05a0619d646_fullsize....   \n",
       "2   d4c71269-df3b-48d5-93be-864fa64e33df_fullsize....   \n",
       "3   929e17e6-7325-4a66-838a-295838fbab6e_fullsize....   \n",
       "4   8fcfc6d4-9e75-46d1-b80c-fb50718fdf0d_fullsize....   \n",
       "5   dd4694ff-cf5b-414b-a7b4-aea49107df18_fullsize....   \n",
       "6   72a3651d-f6b6-43c8-a3af-2a43804c837c_fullsize....   \n",
       "7   72a3aa72-b310-4dec-90fc-ac3671c104e3_fullsize....   \n",
       "8   d6b6bc43-5b88-4300-b9d5-7267372ba39c_fullsize....   \n",
       "9   4529a7de-9015-46a1-b6f3-c8fc1d25bcb9_fullsize....   \n",
       "10  fc835a20-bd0c-46d8-b8c9-f05a0619d646_fullsize....   \n",
       "\n",
       "                          description        owner  \n",
       "0                      BIL Team Photo        TG777  \n",
       "1    Captain Phepsi Buthelezi's Boots     (burned)  \n",
       "2                       Sharks Jersey        TG777  \n",
       "3            Photo A: Anthony Volmink       Mr.NFT  \n",
       "4                Photo B: Siya Kolisi        GT001  \n",
       "5                Photo C: Locker Room     JohanGvd  \n",
       "6      Curwin Bosch Signed BIL Jersey    Frederick  \n",
       "7       Jeremy Ward Signed BIL Jersey    Frederick  \n",
       "8           Player 23 Seat Prize Draw     JohanGvd  \n",
       "9   John Sit Springbok Century Jersey       Malcom  \n",
       "10   Captain Phepsi Buthelezi's Boots  Ryanielove3  "
      ]
     },
     "execution_count": 89,
     "metadata": {},
     "output_type": "execute_result"
    }
   ],
   "source": [
    "df"
   ]
  },
  {
   "cell_type": "code",
   "execution_count": null,
   "metadata": {},
   "outputs": [],
   "source": [
    "{'asdfasdfa.jpg': 1,\n",
    " 'asdfasdf.jpg': 2}"
   ]
  },
  {
   "cell_type": "code",
   "execution_count": null,
   "metadata": {},
   "outputs": [],
   "source": []
  },
  {
   "cell_type": "code",
   "execution_count": 90,
   "metadata": {},
   "outputs": [
    {
     "data": {
      "text/plain": [
       "pandas.core.frame.DataFrame"
      ]
     },
     "execution_count": 90,
     "metadata": {},
     "output_type": "execute_result"
    }
   ],
   "source": [
    "type(df)"
   ]
  },
  {
   "cell_type": "code",
   "execution_count": 92,
   "metadata": {},
   "outputs": [
    {
     "data": {
      "text/plain": [
       "pandas.core.series.Series"
      ]
     },
     "execution_count": 92,
     "metadata": {},
     "output_type": "execute_result"
    }
   ],
   "source": [
    "type(df['token_id'])"
   ]
  },
  {
   "cell_type": "code",
   "execution_count": 95,
   "metadata": {},
   "outputs": [
    {
     "data": {
      "text/plain": [
       "0        –\n",
       "1     5284\n",
       "2     5285\n",
       "3     5743\n",
       "4     5745\n",
       "5     5747\n",
       "6     5753\n",
       "7     5754\n",
       "8     5757\n",
       "9     5905\n",
       "10    6832\n",
       "Name: token_id, dtype: object"
      ]
     },
     "execution_count": 95,
     "metadata": {},
     "output_type": "execute_result"
    }
   ],
   "source": [
    "df['token_id']"
   ]
  },
  {
   "cell_type": "code",
   "execution_count": 98,
   "metadata": {},
   "outputs": [],
   "source": [
    "df2 = df[['token_id','blockchain']]"
   ]
  },
  {
   "cell_type": "code",
   "execution_count": 99,
   "metadata": {},
   "outputs": [
    {
     "data": {
      "text/html": [
       "<div>\n",
       "<style scoped>\n",
       "    .dataframe tbody tr th:only-of-type {\n",
       "        vertical-align: middle;\n",
       "    }\n",
       "\n",
       "    .dataframe tbody tr th {\n",
       "        vertical-align: top;\n",
       "    }\n",
       "\n",
       "    .dataframe thead th {\n",
       "        text-align: right;\n",
       "    }\n",
       "</style>\n",
       "<table border=\"1\" class=\"dataframe\">\n",
       "  <thead>\n",
       "    <tr style=\"text-align: right;\">\n",
       "      <th></th>\n",
       "      <th>token_id</th>\n",
       "      <th>blockchain</th>\n",
       "    </tr>\n",
       "  </thead>\n",
       "  <tbody>\n",
       "    <tr>\n",
       "      <th>0</th>\n",
       "      <td>–</td>\n",
       "      <td>Binance Smart Chain</td>\n",
       "    </tr>\n",
       "    <tr>\n",
       "      <th>1</th>\n",
       "      <td>5284</td>\n",
       "      <td>BSC</td>\n",
       "    </tr>\n",
       "    <tr>\n",
       "      <th>2</th>\n",
       "      <td>5285</td>\n",
       "      <td>BSC</td>\n",
       "    </tr>\n",
       "    <tr>\n",
       "      <th>3</th>\n",
       "      <td>5743</td>\n",
       "      <td>BSC</td>\n",
       "    </tr>\n",
       "    <tr>\n",
       "      <th>4</th>\n",
       "      <td>5745</td>\n",
       "      <td>BSC</td>\n",
       "    </tr>\n",
       "    <tr>\n",
       "      <th>5</th>\n",
       "      <td>5747</td>\n",
       "      <td>BSC</td>\n",
       "    </tr>\n",
       "    <tr>\n",
       "      <th>6</th>\n",
       "      <td>5753</td>\n",
       "      <td>BSC</td>\n",
       "    </tr>\n",
       "    <tr>\n",
       "      <th>7</th>\n",
       "      <td>5754</td>\n",
       "      <td>BSC</td>\n",
       "    </tr>\n",
       "    <tr>\n",
       "      <th>8</th>\n",
       "      <td>5757</td>\n",
       "      <td>BSC</td>\n",
       "    </tr>\n",
       "    <tr>\n",
       "      <th>9</th>\n",
       "      <td>5905</td>\n",
       "      <td>BSC</td>\n",
       "    </tr>\n",
       "    <tr>\n",
       "      <th>10</th>\n",
       "      <td>6832</td>\n",
       "      <td>BSC</td>\n",
       "    </tr>\n",
       "  </tbody>\n",
       "</table>\n",
       "</div>"
      ],
      "text/plain": [
       "   token_id           blockchain\n",
       "0         –  Binance Smart Chain\n",
       "1      5284                  BSC\n",
       "2      5285                  BSC\n",
       "3      5743                  BSC\n",
       "4      5745                  BSC\n",
       "5      5747                  BSC\n",
       "6      5753                  BSC\n",
       "7      5754                  BSC\n",
       "8      5757                  BSC\n",
       "9      5905                  BSC\n",
       "10     6832                  BSC"
      ]
     },
     "execution_count": 99,
     "metadata": {},
     "output_type": "execute_result"
    }
   ],
   "source": [
    "df2"
   ]
  },
  {
   "cell_type": "code",
   "execution_count": 103,
   "metadata": {},
   "outputs": [],
   "source": [
    "df['tx'] = df['tx'].fillna('0x')"
   ]
  },
  {
   "cell_type": "code",
   "execution_count": 104,
   "metadata": {},
   "outputs": [
    {
     "data": {
      "text/html": [
       "<div>\n",
       "<style scoped>\n",
       "    .dataframe tbody tr th:only-of-type {\n",
       "        vertical-align: middle;\n",
       "    }\n",
       "\n",
       "    .dataframe tbody tr th {\n",
       "        vertical-align: top;\n",
       "    }\n",
       "\n",
       "    .dataframe thead th {\n",
       "        text-align: right;\n",
       "    }\n",
       "</style>\n",
       "<table border=\"1\" class=\"dataframe\">\n",
       "  <thead>\n",
       "    <tr style=\"text-align: right;\">\n",
       "      <th></th>\n",
       "      <th>token_id</th>\n",
       "      <th>blockchain</th>\n",
       "      <th>tx</th>\n",
       "      <th>smart_contract_address</th>\n",
       "      <th>image</th>\n",
       "      <th>description</th>\n",
       "      <th>owner</th>\n",
       "    </tr>\n",
       "  </thead>\n",
       "  <tbody>\n",
       "    <tr>\n",
       "      <th>0</th>\n",
       "      <td>–</td>\n",
       "      <td>Binance Smart Chain</td>\n",
       "      <td>0x</td>\n",
       "      <td>NaN</td>\n",
       "      <td>f0e0fe5e-f5cc-444d-8428-c9ed467de828_fullsize....</td>\n",
       "      <td>BIL Team Photo</td>\n",
       "      <td>TG777</td>\n",
       "    </tr>\n",
       "    <tr>\n",
       "      <th>1</th>\n",
       "      <td>5284</td>\n",
       "      <td>BSC</td>\n",
       "      <td>0x5331de7bce629c523d5d531cd9d3fd3c650f4d17341d...</td>\n",
       "      <td>0x3e855B7941fE8ef5F07DAd68C5140D6a3EC1b286</td>\n",
       "      <td>fc835a20-bd0c-46d8-b8c9-f05a0619d646_fullsize....</td>\n",
       "      <td>Captain Phepsi Buthelezi's Boots</td>\n",
       "      <td>(burned)</td>\n",
       "    </tr>\n",
       "    <tr>\n",
       "      <th>2</th>\n",
       "      <td>5285</td>\n",
       "      <td>BSC</td>\n",
       "      <td>0x</td>\n",
       "      <td>NaN</td>\n",
       "      <td>d4c71269-df3b-48d5-93be-864fa64e33df_fullsize....</td>\n",
       "      <td>Sharks Jersey</td>\n",
       "      <td>TG777</td>\n",
       "    </tr>\n",
       "    <tr>\n",
       "      <th>3</th>\n",
       "      <td>5743</td>\n",
       "      <td>BSC</td>\n",
       "      <td>0x</td>\n",
       "      <td>NaN</td>\n",
       "      <td>929e17e6-7325-4a66-838a-295838fbab6e_fullsize....</td>\n",
       "      <td>Photo A: Anthony Volmink</td>\n",
       "      <td>Mr.NFT</td>\n",
       "    </tr>\n",
       "    <tr>\n",
       "      <th>4</th>\n",
       "      <td>5745</td>\n",
       "      <td>BSC</td>\n",
       "      <td>0x</td>\n",
       "      <td>NaN</td>\n",
       "      <td>8fcfc6d4-9e75-46d1-b80c-fb50718fdf0d_fullsize....</td>\n",
       "      <td>Photo B: Siya Kolisi</td>\n",
       "      <td>GT001</td>\n",
       "    </tr>\n",
       "    <tr>\n",
       "      <th>5</th>\n",
       "      <td>5747</td>\n",
       "      <td>BSC</td>\n",
       "      <td>0x</td>\n",
       "      <td>NaN</td>\n",
       "      <td>dd4694ff-cf5b-414b-a7b4-aea49107df18_fullsize....</td>\n",
       "      <td>Photo C: Locker Room</td>\n",
       "      <td>JohanGvd</td>\n",
       "    </tr>\n",
       "    <tr>\n",
       "      <th>6</th>\n",
       "      <td>5753</td>\n",
       "      <td>BSC</td>\n",
       "      <td>0x17e91fdaf641e26876cf42a5e8277a3ba7ad02ba2e9f...</td>\n",
       "      <td>0x3e855B7941fE8ef5F07DAd68C5140D6a3EC1b286</td>\n",
       "      <td>72a3651d-f6b6-43c8-a3af-2a43804c837c_fullsize....</td>\n",
       "      <td>Curwin Bosch Signed BIL Jersey</td>\n",
       "      <td>Frederick</td>\n",
       "    </tr>\n",
       "    <tr>\n",
       "      <th>7</th>\n",
       "      <td>5754</td>\n",
       "      <td>BSC</td>\n",
       "      <td>0x40a7bf7225e962c3f3d23b615c4fd6277fb11aa6500e...</td>\n",
       "      <td>0x3e855B7941fE8ef5F07DAd68C5140D6a3EC1b286</td>\n",
       "      <td>72a3aa72-b310-4dec-90fc-ac3671c104e3_fullsize....</td>\n",
       "      <td>Jeremy Ward Signed BIL Jersey</td>\n",
       "      <td>Frederick</td>\n",
       "    </tr>\n",
       "    <tr>\n",
       "      <th>8</th>\n",
       "      <td>5757</td>\n",
       "      <td>BSC</td>\n",
       "      <td>0x</td>\n",
       "      <td>0x3e855B7941fE8ef5F07DAd68C5140D6a3EC1b286</td>\n",
       "      <td>d6b6bc43-5b88-4300-b9d5-7267372ba39c_fullsize....</td>\n",
       "      <td>Player 23 Seat Prize Draw</td>\n",
       "      <td>JohanGvd</td>\n",
       "    </tr>\n",
       "    <tr>\n",
       "      <th>9</th>\n",
       "      <td>5905</td>\n",
       "      <td>BSC</td>\n",
       "      <td>0x8e625a5b6c1746ebafb82c394bff8a9d8f3b0184bf3c...</td>\n",
       "      <td>0x3e855B7941fE8ef5F07DAd68C5140D6a3EC1b286</td>\n",
       "      <td>4529a7de-9015-46a1-b6f3-c8fc1d25bcb9_fullsize....</td>\n",
       "      <td>John Sit Springbok Century Jersey</td>\n",
       "      <td>Malcom</td>\n",
       "    </tr>\n",
       "    <tr>\n",
       "      <th>10</th>\n",
       "      <td>6832</td>\n",
       "      <td>BSC</td>\n",
       "      <td>0xb86b02627d2b05526d1771411bdfde6b30abf8df00e8...</td>\n",
       "      <td>0x3e855B7941fE8ef5F07DAd68C5140D6a3EC1b286</td>\n",
       "      <td>fc835a20-bd0c-46d8-b8c9-f05a0619d646_fullsize....</td>\n",
       "      <td>Captain Phepsi Buthelezi's Boots</td>\n",
       "      <td>Ryanielove3</td>\n",
       "    </tr>\n",
       "  </tbody>\n",
       "</table>\n",
       "</div>"
      ],
      "text/plain": [
       "   token_id           blockchain  \\\n",
       "0         –  Binance Smart Chain   \n",
       "1      5284                  BSC   \n",
       "2      5285                  BSC   \n",
       "3      5743                  BSC   \n",
       "4      5745                  BSC   \n",
       "5      5747                  BSC   \n",
       "6      5753                  BSC   \n",
       "7      5754                  BSC   \n",
       "8      5757                  BSC   \n",
       "9      5905                  BSC   \n",
       "10     6832                  BSC   \n",
       "\n",
       "                                                   tx  \\\n",
       "0                                                  0x   \n",
       "1   0x5331de7bce629c523d5d531cd9d3fd3c650f4d17341d...   \n",
       "2                                                  0x   \n",
       "3                                                  0x   \n",
       "4                                                  0x   \n",
       "5                                                  0x   \n",
       "6   0x17e91fdaf641e26876cf42a5e8277a3ba7ad02ba2e9f...   \n",
       "7   0x40a7bf7225e962c3f3d23b615c4fd6277fb11aa6500e...   \n",
       "8                                                  0x   \n",
       "9   0x8e625a5b6c1746ebafb82c394bff8a9d8f3b0184bf3c...   \n",
       "10  0xb86b02627d2b05526d1771411bdfde6b30abf8df00e8...   \n",
       "\n",
       "                        smart_contract_address  \\\n",
       "0                                          NaN   \n",
       "1   0x3e855B7941fE8ef5F07DAd68C5140D6a3EC1b286   \n",
       "2                                          NaN   \n",
       "3                                          NaN   \n",
       "4                                          NaN   \n",
       "5                                          NaN   \n",
       "6   0x3e855B7941fE8ef5F07DAd68C5140D6a3EC1b286   \n",
       "7   0x3e855B7941fE8ef5F07DAd68C5140D6a3EC1b286   \n",
       "8   0x3e855B7941fE8ef5F07DAd68C5140D6a3EC1b286   \n",
       "9   0x3e855B7941fE8ef5F07DAd68C5140D6a3EC1b286   \n",
       "10  0x3e855B7941fE8ef5F07DAd68C5140D6a3EC1b286   \n",
       "\n",
       "                                                image  \\\n",
       "0   f0e0fe5e-f5cc-444d-8428-c9ed467de828_fullsize....   \n",
       "1   fc835a20-bd0c-46d8-b8c9-f05a0619d646_fullsize....   \n",
       "2   d4c71269-df3b-48d5-93be-864fa64e33df_fullsize....   \n",
       "3   929e17e6-7325-4a66-838a-295838fbab6e_fullsize....   \n",
       "4   8fcfc6d4-9e75-46d1-b80c-fb50718fdf0d_fullsize....   \n",
       "5   dd4694ff-cf5b-414b-a7b4-aea49107df18_fullsize....   \n",
       "6   72a3651d-f6b6-43c8-a3af-2a43804c837c_fullsize....   \n",
       "7   72a3aa72-b310-4dec-90fc-ac3671c104e3_fullsize....   \n",
       "8   d6b6bc43-5b88-4300-b9d5-7267372ba39c_fullsize....   \n",
       "9   4529a7de-9015-46a1-b6f3-c8fc1d25bcb9_fullsize....   \n",
       "10  fc835a20-bd0c-46d8-b8c9-f05a0619d646_fullsize....   \n",
       "\n",
       "                          description        owner  \n",
       "0                      BIL Team Photo        TG777  \n",
       "1    Captain Phepsi Buthelezi's Boots     (burned)  \n",
       "2                       Sharks Jersey        TG777  \n",
       "3            Photo A: Anthony Volmink       Mr.NFT  \n",
       "4                Photo B: Siya Kolisi        GT001  \n",
       "5                Photo C: Locker Room     JohanGvd  \n",
       "6      Curwin Bosch Signed BIL Jersey    Frederick  \n",
       "7       Jeremy Ward Signed BIL Jersey    Frederick  \n",
       "8           Player 23 Seat Prize Draw     JohanGvd  \n",
       "9   John Sit Springbok Century Jersey       Malcom  \n",
       "10   Captain Phepsi Buthelezi's Boots  Ryanielove3  "
      ]
     },
     "execution_count": 104,
     "metadata": {},
     "output_type": "execute_result"
    }
   ],
   "source": [
    "df"
   ]
  },
  {
   "cell_type": "code",
   "execution_count": 125,
   "metadata": {},
   "outputs": [],
   "source": [
    "def clean_image(image_str):\n",
    "    return image_str.split(' ')[1].replace('(','').replace(')','')"
   ]
  },
  {
   "cell_type": "code",
   "execution_count": 126,
   "metadata": {},
   "outputs": [
    {
     "data": {
      "text/plain": [
       "'https://dl.airtable.com/.attachments/6c4a96f8663df6a4b839d299b42a5a70/6d9c8af4/f0e0fe5e-f5cc-444d-8428-c9ed467de828_fullsize.jpg'"
      ]
     },
     "execution_count": 126,
     "metadata": {},
     "output_type": "execute_result"
    }
   ],
   "source": [
    "clean_image(df['image'].values[0])"
   ]
  },
  {
   "cell_type": "markdown",
   "metadata": {},
   "source": [
    "lambda is a nameless functiony"
   ]
  },
  {
   "cell_type": "code",
   "execution_count": 130,
   "metadata": {},
   "outputs": [],
   "source": [
    "df['image'] = df['image'].apply(lambda x: x.split(' ')[1].replace('(','').replace(')',''))"
   ]
  },
  {
   "cell_type": "code",
   "execution_count": 131,
   "metadata": {},
   "outputs": [
    {
     "data": {
      "text/html": [
       "<div>\n",
       "<style scoped>\n",
       "    .dataframe tbody tr th:only-of-type {\n",
       "        vertical-align: middle;\n",
       "    }\n",
       "\n",
       "    .dataframe tbody tr th {\n",
       "        vertical-align: top;\n",
       "    }\n",
       "\n",
       "    .dataframe thead th {\n",
       "        text-align: right;\n",
       "    }\n",
       "</style>\n",
       "<table border=\"1\" class=\"dataframe\">\n",
       "  <thead>\n",
       "    <tr style=\"text-align: right;\">\n",
       "      <th></th>\n",
       "      <th>token_id</th>\n",
       "      <th>blockchain</th>\n",
       "      <th>tx</th>\n",
       "      <th>smart_contract_address</th>\n",
       "      <th>image</th>\n",
       "      <th>description</th>\n",
       "      <th>owner</th>\n",
       "    </tr>\n",
       "  </thead>\n",
       "  <tbody>\n",
       "    <tr>\n",
       "      <th>0</th>\n",
       "      <td>–</td>\n",
       "      <td>Binance Smart Chain</td>\n",
       "      <td>0x</td>\n",
       "      <td>NaN</td>\n",
       "      <td>https://dl.airtable.com/.attachments/6c4a96f86...</td>\n",
       "      <td>BIL Team Photo</td>\n",
       "      <td>TG777</td>\n",
       "    </tr>\n",
       "    <tr>\n",
       "      <th>1</th>\n",
       "      <td>5284</td>\n",
       "      <td>BSC</td>\n",
       "      <td>0x5331de7bce629c523d5d531cd9d3fd3c650f4d17341d...</td>\n",
       "      <td>0x3e855B7941fE8ef5F07DAd68C5140D6a3EC1b286</td>\n",
       "      <td>https://dl.airtable.com/.attachments/0c32934c4...</td>\n",
       "      <td>Captain Phepsi Buthelezi's Boots</td>\n",
       "      <td>(burned)</td>\n",
       "    </tr>\n",
       "    <tr>\n",
       "      <th>2</th>\n",
       "      <td>5285</td>\n",
       "      <td>BSC</td>\n",
       "      <td>0x</td>\n",
       "      <td>NaN</td>\n",
       "      <td>https://dl.airtable.com/.attachments/b143625af...</td>\n",
       "      <td>Sharks Jersey</td>\n",
       "      <td>TG777</td>\n",
       "    </tr>\n",
       "    <tr>\n",
       "      <th>3</th>\n",
       "      <td>5743</td>\n",
       "      <td>BSC</td>\n",
       "      <td>0x</td>\n",
       "      <td>NaN</td>\n",
       "      <td>https://dl.airtable.com/.attachments/cf3fdd63e...</td>\n",
       "      <td>Photo A: Anthony Volmink</td>\n",
       "      <td>Mr.NFT</td>\n",
       "    </tr>\n",
       "    <tr>\n",
       "      <th>4</th>\n",
       "      <td>5745</td>\n",
       "      <td>BSC</td>\n",
       "      <td>0x</td>\n",
       "      <td>NaN</td>\n",
       "      <td>https://dl.airtable.com/.attachments/397d192e1...</td>\n",
       "      <td>Photo B: Siya Kolisi</td>\n",
       "      <td>GT001</td>\n",
       "    </tr>\n",
       "    <tr>\n",
       "      <th>5</th>\n",
       "      <td>5747</td>\n",
       "      <td>BSC</td>\n",
       "      <td>0x</td>\n",
       "      <td>NaN</td>\n",
       "      <td>https://dl.airtable.com/.attachments/1c36a48dc...</td>\n",
       "      <td>Photo C: Locker Room</td>\n",
       "      <td>JohanGvd</td>\n",
       "    </tr>\n",
       "    <tr>\n",
       "      <th>6</th>\n",
       "      <td>5753</td>\n",
       "      <td>BSC</td>\n",
       "      <td>0x17e91fdaf641e26876cf42a5e8277a3ba7ad02ba2e9f...</td>\n",
       "      <td>0x3e855B7941fE8ef5F07DAd68C5140D6a3EC1b286</td>\n",
       "      <td>https://dl.airtable.com/.attachments/d1ed75497...</td>\n",
       "      <td>Curwin Bosch Signed BIL Jersey</td>\n",
       "      <td>Frederick</td>\n",
       "    </tr>\n",
       "    <tr>\n",
       "      <th>7</th>\n",
       "      <td>5754</td>\n",
       "      <td>BSC</td>\n",
       "      <td>0x40a7bf7225e962c3f3d23b615c4fd6277fb11aa6500e...</td>\n",
       "      <td>0x3e855B7941fE8ef5F07DAd68C5140D6a3EC1b286</td>\n",
       "      <td>https://dl.airtable.com/.attachments/3da47d8bb...</td>\n",
       "      <td>Jeremy Ward Signed BIL Jersey</td>\n",
       "      <td>Frederick</td>\n",
       "    </tr>\n",
       "    <tr>\n",
       "      <th>8</th>\n",
       "      <td>5757</td>\n",
       "      <td>BSC</td>\n",
       "      <td>0x</td>\n",
       "      <td>0x3e855B7941fE8ef5F07DAd68C5140D6a3EC1b286</td>\n",
       "      <td>https://dl.airtable.com/.attachments/dadb4020a...</td>\n",
       "      <td>Player 23 Seat Prize Draw</td>\n",
       "      <td>JohanGvd</td>\n",
       "    </tr>\n",
       "    <tr>\n",
       "      <th>9</th>\n",
       "      <td>5905</td>\n",
       "      <td>BSC</td>\n",
       "      <td>0x8e625a5b6c1746ebafb82c394bff8a9d8f3b0184bf3c...</td>\n",
       "      <td>0x3e855B7941fE8ef5F07DAd68C5140D6a3EC1b286</td>\n",
       "      <td>https://dl.airtable.com/.attachments/b1bebb56f...</td>\n",
       "      <td>John Sit Springbok Century Jersey</td>\n",
       "      <td>Malcom</td>\n",
       "    </tr>\n",
       "    <tr>\n",
       "      <th>10</th>\n",
       "      <td>6832</td>\n",
       "      <td>BSC</td>\n",
       "      <td>0xb86b02627d2b05526d1771411bdfde6b30abf8df00e8...</td>\n",
       "      <td>0x3e855B7941fE8ef5F07DAd68C5140D6a3EC1b286</td>\n",
       "      <td>https://dl.airtable.com/.attachments/b59b1dd08...</td>\n",
       "      <td>Captain Phepsi Buthelezi's Boots</td>\n",
       "      <td>Ryanielove3</td>\n",
       "    </tr>\n",
       "  </tbody>\n",
       "</table>\n",
       "</div>"
      ],
      "text/plain": [
       "   token_id           blockchain  \\\n",
       "0         –  Binance Smart Chain   \n",
       "1      5284                  BSC   \n",
       "2      5285                  BSC   \n",
       "3      5743                  BSC   \n",
       "4      5745                  BSC   \n",
       "5      5747                  BSC   \n",
       "6      5753                  BSC   \n",
       "7      5754                  BSC   \n",
       "8      5757                  BSC   \n",
       "9      5905                  BSC   \n",
       "10     6832                  BSC   \n",
       "\n",
       "                                                   tx  \\\n",
       "0                                                  0x   \n",
       "1   0x5331de7bce629c523d5d531cd9d3fd3c650f4d17341d...   \n",
       "2                                                  0x   \n",
       "3                                                  0x   \n",
       "4                                                  0x   \n",
       "5                                                  0x   \n",
       "6   0x17e91fdaf641e26876cf42a5e8277a3ba7ad02ba2e9f...   \n",
       "7   0x40a7bf7225e962c3f3d23b615c4fd6277fb11aa6500e...   \n",
       "8                                                  0x   \n",
       "9   0x8e625a5b6c1746ebafb82c394bff8a9d8f3b0184bf3c...   \n",
       "10  0xb86b02627d2b05526d1771411bdfde6b30abf8df00e8...   \n",
       "\n",
       "                        smart_contract_address  \\\n",
       "0                                          NaN   \n",
       "1   0x3e855B7941fE8ef5F07DAd68C5140D6a3EC1b286   \n",
       "2                                          NaN   \n",
       "3                                          NaN   \n",
       "4                                          NaN   \n",
       "5                                          NaN   \n",
       "6   0x3e855B7941fE8ef5F07DAd68C5140D6a3EC1b286   \n",
       "7   0x3e855B7941fE8ef5F07DAd68C5140D6a3EC1b286   \n",
       "8   0x3e855B7941fE8ef5F07DAd68C5140D6a3EC1b286   \n",
       "9   0x3e855B7941fE8ef5F07DAd68C5140D6a3EC1b286   \n",
       "10  0x3e855B7941fE8ef5F07DAd68C5140D6a3EC1b286   \n",
       "\n",
       "                                                image  \\\n",
       "0   https://dl.airtable.com/.attachments/6c4a96f86...   \n",
       "1   https://dl.airtable.com/.attachments/0c32934c4...   \n",
       "2   https://dl.airtable.com/.attachments/b143625af...   \n",
       "3   https://dl.airtable.com/.attachments/cf3fdd63e...   \n",
       "4   https://dl.airtable.com/.attachments/397d192e1...   \n",
       "5   https://dl.airtable.com/.attachments/1c36a48dc...   \n",
       "6   https://dl.airtable.com/.attachments/d1ed75497...   \n",
       "7   https://dl.airtable.com/.attachments/3da47d8bb...   \n",
       "8   https://dl.airtable.com/.attachments/dadb4020a...   \n",
       "9   https://dl.airtable.com/.attachments/b1bebb56f...   \n",
       "10  https://dl.airtable.com/.attachments/b59b1dd08...   \n",
       "\n",
       "                          description        owner  \n",
       "0                      BIL Team Photo        TG777  \n",
       "1    Captain Phepsi Buthelezi's Boots     (burned)  \n",
       "2                       Sharks Jersey        TG777  \n",
       "3            Photo A: Anthony Volmink       Mr.NFT  \n",
       "4                Photo B: Siya Kolisi        GT001  \n",
       "5                Photo C: Locker Room     JohanGvd  \n",
       "6      Curwin Bosch Signed BIL Jersey    Frederick  \n",
       "7       Jeremy Ward Signed BIL Jersey    Frederick  \n",
       "8           Player 23 Seat Prize Draw     JohanGvd  \n",
       "9   John Sit Springbok Century Jersey       Malcom  \n",
       "10   Captain Phepsi Buthelezi's Boots  Ryanielove3  "
      ]
     },
     "execution_count": 131,
     "metadata": {},
     "output_type": "execute_result"
    }
   ],
   "source": [
    "df"
   ]
  },
  {
   "cell_type": "code",
   "execution_count": 155,
   "metadata": {},
   "outputs": [],
   "source": [
    "TEMPLATE = {\n",
    "  \"name\": \"\",\n",
    "#   \"external_url\": \"\",\n",
    "  \"image\": \"\",\n",
    "  \"description\": \"\",\n",
    "  # \"attributes\": [\n",
    "  #   # { \"trait_type\": \"\", \"value\": \"\" },\n",
    "  #   # { \"trait_type\": \"\", \"value\": \"\" }\n",
    "  # ]\n",
    "}"
   ]
  },
  {
   "cell_type": "code",
   "execution_count": 160,
   "metadata": {},
   "outputs": [],
   "source": [
    "import json\n",
    "import copy"
   ]
  },
  {
   "cell_type": "code",
   "execution_count": 157,
   "metadata": {},
   "outputs": [
    {
     "data": {
      "text/plain": [
       "{'name': '', 'image': '', 'description': '', 'attributes': []}"
      ]
     },
     "execution_count": 157,
     "metadata": {},
     "output_type": "execute_result"
    }
   ],
   "source": [
    "TEMPLATE"
   ]
  },
  {
   "cell_type": "code",
   "execution_count": 166,
   "metadata": {},
   "outputs": [],
   "source": [
    "jsons = []\n",
    "for i, row in df.iterrows():\n",
    "    # print(i)\n",
    "    name = row['description']\n",
    "    description = row['description']\n",
    "    image = row['image']    \n",
    "\n",
    "    # print(name, image)\n",
    "    template = copy.deepcopy(TEMPLATE)\n",
    "    template['name'] = name\n",
    "    template['description'] = description\n",
    "    template['image'] = image\n",
    "    template['attributes'] = [{ \"trait_type\": \"Owner\", \"value\": row['owner'] }]\n",
    "    jsons.append(template)\n",
    "    "
   ]
  },
  {
   "cell_type": "code",
   "execution_count": 167,
   "metadata": {},
   "outputs": [
    {
     "data": {
      "text/plain": [
       "[{'name': 'BIL Team Photo',\n",
       "  'image': 'https://dl.airtable.com/.attachments/6c4a96f8663df6a4b839d299b42a5a70/6d9c8af4/f0e0fe5e-f5cc-444d-8428-c9ed467de828_fullsize.jpg',\n",
       "  'description': 'BIL Team Photo',\n",
       "  'attributes': [{'trait_type': 'Owner', 'value': 'TG777'}]},\n",
       " {'name': \"Captain Phepsi Buthelezi's Boots\",\n",
       "  'image': 'https://dl.airtable.com/.attachments/0c32934c491f76ed4e4c31410c74f3b8/ed1874c8/fc835a20-bd0c-46d8-b8c9-f05a0619d646_fullsize.jpg',\n",
       "  'description': \"Captain Phepsi Buthelezi's Boots\",\n",
       "  'attributes': [{'trait_type': 'Owner', 'value': '(burned)'}]},\n",
       " {'name': 'Sharks Jersey',\n",
       "  'image': 'https://dl.airtable.com/.attachments/b143625af036634f011e1052b87c9f53/3d15394f/d4c71269-df3b-48d5-93be-864fa64e33df_fullsize.jpg,',\n",
       "  'description': 'Sharks Jersey',\n",
       "  'attributes': [{'trait_type': 'Owner', 'value': 'TG777'}]},\n",
       " {'name': 'Photo A: Anthony Volmink',\n",
       "  'image': 'https://dl.airtable.com/.attachments/cf3fdd63e5b7ddd8dd83bc16c40936f5/c0415b9d/929e17e6-7325-4a66-838a-295838fbab6e_fullsize.jpg',\n",
       "  'description': 'Photo A: Anthony Volmink',\n",
       "  'attributes': [{'trait_type': 'Owner', 'value': 'Mr.NFT'}]},\n",
       " {'name': 'Photo B: Siya Kolisi',\n",
       "  'image': 'https://dl.airtable.com/.attachments/397d192e173ec9cb1642e3555e8fc51c/c8b62780/8fcfc6d4-9e75-46d1-b80c-fb50718fdf0d_fullsize.jpg',\n",
       "  'description': 'Photo B: Siya Kolisi',\n",
       "  'attributes': [{'trait_type': 'Owner', 'value': 'GT001'}]},\n",
       " {'name': 'Photo C: Locker Room',\n",
       "  'image': 'https://dl.airtable.com/.attachments/1c36a48dce5b29b13e0794ede9b93315/06c48626/dd4694ff-cf5b-414b-a7b4-aea49107df18_fullsize.jpg',\n",
       "  'description': 'Photo C: Locker Room',\n",
       "  'attributes': [{'trait_type': 'Owner', 'value': 'JohanGvd'}]},\n",
       " {'name': 'Curwin Bosch Signed BIL Jersey',\n",
       "  'image': 'https://dl.airtable.com/.attachments/d1ed754971652b070236366e9e80bb1c/964cd1d0/72a3651d-f6b6-43c8-a3af-2a43804c837c_fullsize.jpg',\n",
       "  'description': 'Curwin Bosch Signed BIL Jersey',\n",
       "  'attributes': [{'trait_type': 'Owner', 'value': 'Frederick'}]},\n",
       " {'name': 'Jeremy Ward Signed BIL Jersey',\n",
       "  'image': 'https://dl.airtable.com/.attachments/3da47d8bbcd181fab7c392365e201721/db4358fb/72a3aa72-b310-4dec-90fc-ac3671c104e3_fullsize.jpg',\n",
       "  'description': 'Jeremy Ward Signed BIL Jersey',\n",
       "  'attributes': [{'trait_type': 'Owner', 'value': 'Frederick'}]},\n",
       " {'name': 'Player 23 Seat Prize Draw',\n",
       "  'image': 'https://dl.airtable.com/.attachments/dadb4020aea3e2fc1c186cb3a2a6ca80/dcd70f56/d6b6bc43-5b88-4300-b9d5-7267372ba39c_fullsize.jpg',\n",
       "  'description': 'Player 23 Seat Prize Draw',\n",
       "  'attributes': [{'trait_type': 'Owner', 'value': 'JohanGvd'}]},\n",
       " {'name': 'John Sit Springbok Century Jersey',\n",
       "  'image': 'https://dl.airtable.com/.attachments/b1bebb56f957d335c560b7ae3f27773d/4f316b98/4529a7de-9015-46a1-b6f3-c8fc1d25bcb9_fullsize.jpg',\n",
       "  'description': 'John Sit Springbok Century Jersey',\n",
       "  'attributes': [{'trait_type': 'Owner', 'value': 'Malcom'}]},\n",
       " {'name': \"Captain Phepsi Buthelezi's Boots\",\n",
       "  'image': 'https://dl.airtable.com/.attachments/b59b1dd08c15159922ab846f9317f697/6d902ded/fc835a20-bd0c-46d8-b8c9-f05a0619d646_fullsize.jpg',\n",
       "  'description': \"Captain Phepsi Buthelezi's Boots\",\n",
       "  'attributes': [{'trait_type': 'Owner', 'value': 'Ryanielove3'}]}]"
      ]
     },
     "execution_count": 167,
     "metadata": {},
     "output_type": "execute_result"
    }
   ],
   "source": [
    "jsons"
   ]
  },
  {
   "cell_type": "code",
   "execution_count": 168,
   "metadata": {},
   "outputs": [
    {
     "data": {
      "text/plain": [
       "'{\"a\": \"b\"}'"
      ]
     },
     "execution_count": 168,
     "metadata": {},
     "output_type": "execute_result"
    }
   ],
   "source": [
    "json.dumps({'a':'b'})"
   ]
  },
  {
   "cell_type": "code",
   "execution_count": 178,
   "metadata": {},
   "outputs": [
    {
     "name": "stdout",
     "output_type": "stream",
     "text": [
      "0 {'name': 'BIL Team Photo', 'image': 'https://dl.airtable.com/.attachments/6c4a96f8663df6a4b839d299b42a5a70/6d9c8af4/f0e0fe5e-f5cc-444d-8428-c9ed467de828_fullsize.jpg', 'description': 'BIL Team Photo', 'attributes': [{'trait_type': 'Owner', 'value': 'TG777'}]}\n",
      "1 {'name': \"Captain Phepsi Buthelezi's Boots\", 'image': 'https://dl.airtable.com/.attachments/0c32934c491f76ed4e4c31410c74f3b8/ed1874c8/fc835a20-bd0c-46d8-b8c9-f05a0619d646_fullsize.jpg', 'description': \"Captain Phepsi Buthelezi's Boots\", 'attributes': [{'trait_type': 'Owner', 'value': '(burned)'}]}\n",
      "2 {'name': 'Sharks Jersey', 'image': 'https://dl.airtable.com/.attachments/b143625af036634f011e1052b87c9f53/3d15394f/d4c71269-df3b-48d5-93be-864fa64e33df_fullsize.jpg,', 'description': 'Sharks Jersey', 'attributes': [{'trait_type': 'Owner', 'value': 'TG777'}]}\n",
      "3 {'name': 'Photo A: Anthony Volmink', 'image': 'https://dl.airtable.com/.attachments/cf3fdd63e5b7ddd8dd83bc16c40936f5/c0415b9d/929e17e6-7325-4a66-838a-295838fbab6e_fullsize.jpg', 'description': 'Photo A: Anthony Volmink', 'attributes': [{'trait_type': 'Owner', 'value': 'Mr.NFT'}]}\n",
      "4 {'name': 'Photo B: Siya Kolisi', 'image': 'https://dl.airtable.com/.attachments/397d192e173ec9cb1642e3555e8fc51c/c8b62780/8fcfc6d4-9e75-46d1-b80c-fb50718fdf0d_fullsize.jpg', 'description': 'Photo B: Siya Kolisi', 'attributes': [{'trait_type': 'Owner', 'value': 'GT001'}]}\n",
      "5 {'name': 'Photo C: Locker Room', 'image': 'https://dl.airtable.com/.attachments/1c36a48dce5b29b13e0794ede9b93315/06c48626/dd4694ff-cf5b-414b-a7b4-aea49107df18_fullsize.jpg', 'description': 'Photo C: Locker Room', 'attributes': [{'trait_type': 'Owner', 'value': 'JohanGvd'}]}\n",
      "6 {'name': 'Curwin Bosch Signed BIL Jersey', 'image': 'https://dl.airtable.com/.attachments/d1ed754971652b070236366e9e80bb1c/964cd1d0/72a3651d-f6b6-43c8-a3af-2a43804c837c_fullsize.jpg', 'description': 'Curwin Bosch Signed BIL Jersey', 'attributes': [{'trait_type': 'Owner', 'value': 'Frederick'}]}\n",
      "7 {'name': 'Jeremy Ward Signed BIL Jersey', 'image': 'https://dl.airtable.com/.attachments/3da47d8bbcd181fab7c392365e201721/db4358fb/72a3aa72-b310-4dec-90fc-ac3671c104e3_fullsize.jpg', 'description': 'Jeremy Ward Signed BIL Jersey', 'attributes': [{'trait_type': 'Owner', 'value': 'Frederick'}]}\n",
      "8 {'name': 'Player 23 Seat Prize Draw', 'image': 'https://dl.airtable.com/.attachments/dadb4020aea3e2fc1c186cb3a2a6ca80/dcd70f56/d6b6bc43-5b88-4300-b9d5-7267372ba39c_fullsize.jpg', 'description': 'Player 23 Seat Prize Draw', 'attributes': [{'trait_type': 'Owner', 'value': 'JohanGvd'}]}\n",
      "9 {'name': 'John Sit Springbok Century Jersey', 'image': 'https://dl.airtable.com/.attachments/b1bebb56f957d335c560b7ae3f27773d/4f316b98/4529a7de-9015-46a1-b6f3-c8fc1d25bcb9_fullsize.jpg', 'description': 'John Sit Springbok Century Jersey', 'attributes': [{'trait_type': 'Owner', 'value': 'Malcom'}]}\n",
      "10 {'name': \"Captain Phepsi Buthelezi's Boots\", 'image': 'https://dl.airtable.com/.attachments/b59b1dd08c15159922ab846f9317f697/6d902ded/fc835a20-bd0c-46d8-b8c9-f05a0619d646_fullsize.jpg', 'description': \"Captain Phepsi Buthelezi's Boots\", 'attributes': [{'trait_type': 'Owner', 'value': 'Ryanielove3'}]}\n"
     ]
    }
   ],
   "source": [
    "token_id = 0\n",
    "for j in jsons:\n",
    "    print(token_id, j)\n",
    "    filename = str(token_id) + '.json'\n",
    "    with open(filename, 'w') as f:\n",
    "        json.dump(j, f, indent=2)\n",
    "    token_id = token_id + 1\n",
    "        "
   ]
  },
  {
   "cell_type": "code",
   "execution_count": null,
   "metadata": {},
   "outputs": [],
   "source": []
  }
 ],
 "metadata": {
  "kernelspec": {
   "display_name": "Python 3.10.4 64-bit",
   "language": "python",
   "name": "python3"
  },
  "language_info": {
   "codemirror_mode": {
    "name": "ipython",
    "version": 3
   },
   "file_extension": ".py",
   "mimetype": "text/x-python",
   "name": "python",
   "nbconvert_exporter": "python",
   "pygments_lexer": "ipython3",
   "version": "3.10.4"
  },
  "orig_nbformat": 4,
  "vscode": {
   "interpreter": {
    "hash": "81b417f7e99debf9609bef134b1fac8e0a0a31c7a8c9a243109829771a606077"
   }
  }
 },
 "nbformat": 4,
 "nbformat_minor": 2
}
